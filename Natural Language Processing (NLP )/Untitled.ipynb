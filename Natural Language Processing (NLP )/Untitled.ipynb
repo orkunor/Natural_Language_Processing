{
 "cells": [
  {
   "cell_type": "code",
   "execution_count": 16,
   "id": "dc8b4d12",
   "metadata": {},
   "outputs": [],
   "source": [
    "import pandas as pd \n",
    "import numpy as np \n",
    "import matplotlib.pyplot as plt "
   ]
  },
  {
   "cell_type": "code",
   "execution_count": 17,
   "id": "63ae4c7e",
   "metadata": {},
   "outputs": [],
   "source": [
    "yorumlar = pd.read_csv(\"Restaurant_Reviews_New.csv\")"
   ]
  },
  {
   "cell_type": "code",
   "execution_count": 18,
   "id": "7c5802c2",
   "metadata": {},
   "outputs": [
    {
     "data": {
      "text/html": [
       "<div>\n",
       "<style scoped>\n",
       "    .dataframe tbody tr th:only-of-type {\n",
       "        vertical-align: middle;\n",
       "    }\n",
       "\n",
       "    .dataframe tbody tr th {\n",
       "        vertical-align: top;\n",
       "    }\n",
       "\n",
       "    .dataframe thead th {\n",
       "        text-align: right;\n",
       "    }\n",
       "</style>\n",
       "<table border=\"1\" class=\"dataframe\">\n",
       "  <thead>\n",
       "    <tr style=\"text-align: right;\">\n",
       "      <th></th>\n",
       "      <th>Review</th>\n",
       "      <th>liked</th>\n",
       "    </tr>\n",
       "  </thead>\n",
       "  <tbody>\n",
       "    <tr>\n",
       "      <th>0</th>\n",
       "      <td>wow love place</td>\n",
       "      <td>1</td>\n",
       "    </tr>\n",
       "    <tr>\n",
       "      <th>1</th>\n",
       "      <td>crust good</td>\n",
       "      <td>0</td>\n",
       "    </tr>\n",
       "    <tr>\n",
       "      <th>2</th>\n",
       "      <td>tasti textur nasti</td>\n",
       "      <td>0</td>\n",
       "    </tr>\n",
       "    <tr>\n",
       "      <th>3</th>\n",
       "      <td>stop late may bank holiday rick steve recommen...</td>\n",
       "      <td>1</td>\n",
       "    </tr>\n",
       "    <tr>\n",
       "      <th>4</th>\n",
       "      <td>select menu great price</td>\n",
       "      <td>1</td>\n",
       "    </tr>\n",
       "    <tr>\n",
       "      <th>...</th>\n",
       "      <td>...</td>\n",
       "      <td>...</td>\n",
       "    </tr>\n",
       "    <tr>\n",
       "      <th>995</th>\n",
       "      <td>think food flavor textur lack</td>\n",
       "      <td>0</td>\n",
       "    </tr>\n",
       "    <tr>\n",
       "      <th>996</th>\n",
       "      <td>appetit instantli gone</td>\n",
       "      <td>0</td>\n",
       "    </tr>\n",
       "    <tr>\n",
       "      <th>997</th>\n",
       "      <td>overal impress would go back</td>\n",
       "      <td>0</td>\n",
       "    </tr>\n",
       "    <tr>\n",
       "      <th>998</th>\n",
       "      <td>whole experi underwhelm think go ninja sushi n...</td>\n",
       "      <td>0</td>\n",
       "    </tr>\n",
       "    <tr>\n",
       "      <th>999</th>\n",
       "      <td>wast enough life pour salt wound draw time too...</td>\n",
       "      <td>0</td>\n",
       "    </tr>\n",
       "  </tbody>\n",
       "</table>\n",
       "<p>1000 rows × 2 columns</p>\n",
       "</div>"
      ],
      "text/plain": [
       "                                                Review  liked\n",
       "0                                       wow love place      1\n",
       "1                                           crust good      0\n",
       "2                                   tasti textur nasti      0\n",
       "3    stop late may bank holiday rick steve recommen...      1\n",
       "4                              select menu great price      1\n",
       "..                                                 ...    ...\n",
       "995                      think food flavor textur lack      0\n",
       "996                             appetit instantli gone      0\n",
       "997                       overal impress would go back      0\n",
       "998  whole experi underwhelm think go ninja sushi n...      0\n",
       "999  wast enough life pour salt wound draw time too...      0\n",
       "\n",
       "[1000 rows x 2 columns]"
      ]
     },
     "execution_count": 18,
     "metadata": {},
     "output_type": "execute_result"
    }
   ],
   "source": [
    "yorumlar"
   ]
  },
  {
   "cell_type": "code",
   "execution_count": 19,
   "id": "c3d37815",
   "metadata": {},
   "outputs": [],
   "source": [
    "import re\n",
    "\n",
    "yorum = re.sub('[^a-zA-Z]',' ',yorumlar['Review'][0])"
   ]
  },
  {
   "cell_type": "code",
   "execution_count": 20,
   "id": "13ea306e",
   "metadata": {},
   "outputs": [
    {
     "data": {
      "text/plain": [
       "['wow', 'love', 'place']"
      ]
     },
     "execution_count": 20,
     "metadata": {},
     "output_type": "execute_result"
    }
   ],
   "source": [
    "yorum = yorum.lower() #harfleri küçülttü \n",
    "yorum = yorum.split() # bu da elimizdeki satırı her ir kelimesini liste haline çevirdi  \n",
    "yorum"
   ]
  },
  {
   "cell_type": "code",
   "execution_count": 21,
   "id": "7a5dded6",
   "metadata": {},
   "outputs": [
    {
     "name": "stderr",
     "output_type": "stream",
     "text": [
      "[nltk_data] Downloading package stopwords to\n",
      "[nltk_data]     C:\\Users\\ORKUN\\AppData\\Roaming\\nltk_data...\n",
      "[nltk_data]   Package stopwords is already up-to-date!\n"
     ]
    },
    {
     "data": {
      "text/plain": [
       "True"
      ]
     },
     "execution_count": 21,
     "metadata": {},
     "output_type": "execute_result"
    }
   ],
   "source": [
    "import nltk\n",
    "durma = nltk.download(\"stopwords\")\n",
    "durma #Download ettiği için Download True değeri döndürdü !!!\n",
    "# stopwords durma kelimelerini dahil ediyor ve o kelimeyi bulunca işlemi gerçekleştriiyorn \n",
    "# bu kod ile buradaki görünen stopword'lerden birini görürsen onu kullanma diyorum "
   ]
  },
  {
   "cell_type": "code",
   "execution_count": 22,
   "id": "3b128f56",
   "metadata": {},
   "outputs": [
    {
     "data": {
      "text/plain": [
       "['wow', 'love', 'place']"
      ]
     },
     "execution_count": 22,
     "metadata": {},
     "output_type": "execute_result"
    }
   ],
   "source": [
    "yorum  "
   ]
  },
  {
   "cell_type": "code",
   "execution_count": 23,
   "id": "24660af8",
   "metadata": {},
   "outputs": [
    {
     "name": "stderr",
     "output_type": "stream",
     "text": [
      "[nltk_data] Downloading package stopwords to\n",
      "[nltk_data]     C:\\Users\\ORKUN\\AppData\\Roaming\\nltk_data...\n",
      "[nltk_data]   Package stopwords is already up-to-date!\n"
     ]
    }
   ],
   "source": [
    "from nltk.stem.porter import PorterStemmer #bu algoritmayla stopwords'ü birleştreceğiz "
   ]
  },
  {
   "cell_type": "code",
   "execution_count": 24,
   "id": "8effc77a",
   "metadata": {},
   "outputs": [],
   "source": [
    "ps = PorterStemmer()"
   ]
  },
  {
   "cell_type": "code",
   "execution_count": 25,
   "id": "0aaf2b7e",
   "metadata": {},
   "outputs": [
    {
     "name": "stderr",
     "output_type": "stream",
     "text": [
      "[nltk_data] Downloading package stopwords to\n",
      "[nltk_data]     C:\\Users\\ORKUN\\AppData\\Roaming\\nltk_data...\n",
      "[nltk_data]   Package stopwords is already up-to-date!\n"
     ]
    }
   ],
   "source": [
    "nltk.download(\"stopwords\") \n",
    "from nltk.corpus import stopwords"
   ]
  },
  {
   "cell_type": "code",
   "execution_count": 29,
   "id": "13e94c42",
   "metadata": {},
   "outputs": [
    {
     "ename": "AttributeError",
     "evalue": "'list' object has no attribute 'lower'",
     "output_type": "error",
     "traceback": [
      "\u001b[1;31m---------------------------------------------------------------------------\u001b[0m",
      "\u001b[1;31mAttributeError\u001b[0m                            Traceback (most recent call last)",
      "Cell \u001b[1;32mIn[29], line 6\u001b[0m\n\u001b[0;32m      4\u001b[0m yorum \u001b[38;5;241m=\u001b[39m yorum\u001b[38;5;241m.\u001b[39mlower() \u001b[38;5;66;03m# küçük harfe çevirecek\u001b[39;00m\n\u001b[0;32m      5\u001b[0m yorum \u001b[38;5;241m=\u001b[39m yorum\u001b[38;5;241m.\u001b[39msplit() \u001b[38;5;66;03m# kelimeleri split edecek !!!\u001b[39;00m\n\u001b[1;32m----> 6\u001b[0m yorum \u001b[38;5;241m=\u001b[39m [ps\u001b[38;5;241m.\u001b[39mstem(yorum) \u001b[38;5;28;01mfor\u001b[39;00m kelime \u001b[38;5;129;01min\u001b[39;00m yorum \u001b[38;5;28;01mif\u001b[39;00m \u001b[38;5;129;01mnot\u001b[39;00m kelime \u001b[38;5;129;01min\u001b[39;00m \u001b[38;5;28mset\u001b[39m(stopwords\u001b[38;5;241m.\u001b[39mwords(\u001b[38;5;124m'\u001b[39m\u001b[38;5;124menglish\u001b[39m\u001b[38;5;124m'\u001b[39m))]\n\u001b[0;32m      7\u001b[0m yorum \u001b[38;5;241m=\u001b[39m \u001b[38;5;124m'\u001b[39m\u001b[38;5;124m \u001b[39m\u001b[38;5;124m'\u001b[39m\u001b[38;5;241m.\u001b[39mjoin(yorum)\n\u001b[0;32m      8\u001b[0m derlem\u001b[38;5;241m.\u001b[39mappend(yorum)\n",
      "Cell \u001b[1;32mIn[29], line 6\u001b[0m, in \u001b[0;36m<listcomp>\u001b[1;34m(.0)\u001b[0m\n\u001b[0;32m      4\u001b[0m yorum \u001b[38;5;241m=\u001b[39m yorum\u001b[38;5;241m.\u001b[39mlower() \u001b[38;5;66;03m# küçük harfe çevirecek\u001b[39;00m\n\u001b[0;32m      5\u001b[0m yorum \u001b[38;5;241m=\u001b[39m yorum\u001b[38;5;241m.\u001b[39msplit() \u001b[38;5;66;03m# kelimeleri split edecek !!!\u001b[39;00m\n\u001b[1;32m----> 6\u001b[0m yorum \u001b[38;5;241m=\u001b[39m [ps\u001b[38;5;241m.\u001b[39mstem(yorum) \u001b[38;5;28;01mfor\u001b[39;00m kelime \u001b[38;5;129;01min\u001b[39;00m yorum \u001b[38;5;28;01mif\u001b[39;00m \u001b[38;5;129;01mnot\u001b[39;00m kelime \u001b[38;5;129;01min\u001b[39;00m \u001b[38;5;28mset\u001b[39m(stopwords\u001b[38;5;241m.\u001b[39mwords(\u001b[38;5;124m'\u001b[39m\u001b[38;5;124menglish\u001b[39m\u001b[38;5;124m'\u001b[39m))]\n\u001b[0;32m      7\u001b[0m yorum \u001b[38;5;241m=\u001b[39m \u001b[38;5;124m'\u001b[39m\u001b[38;5;124m \u001b[39m\u001b[38;5;124m'\u001b[39m\u001b[38;5;241m.\u001b[39mjoin(yorum)\n\u001b[0;32m      8\u001b[0m derlem\u001b[38;5;241m.\u001b[39mappend(yorum)\n",
      "File \u001b[1;32m~\\anaconda3\\Lib\\site-packages\\nltk\\stem\\porter.py:658\u001b[0m, in \u001b[0;36mPorterStemmer.stem\u001b[1;34m(self, word, to_lowercase)\u001b[0m\n\u001b[0;32m    654\u001b[0m \u001b[38;5;28;01mdef\u001b[39;00m \u001b[38;5;21mstem\u001b[39m(\u001b[38;5;28mself\u001b[39m, word, to_lowercase\u001b[38;5;241m=\u001b[39m\u001b[38;5;28;01mTrue\u001b[39;00m):\n\u001b[0;32m    655\u001b[0m \u001b[38;5;250m    \u001b[39m\u001b[38;5;124;03m\"\"\"\u001b[39;00m\n\u001b[0;32m    656\u001b[0m \u001b[38;5;124;03m    :param to_lowercase: if `to_lowercase=True` the word always lowercase\u001b[39;00m\n\u001b[0;32m    657\u001b[0m \u001b[38;5;124;03m    \"\"\"\u001b[39;00m\n\u001b[1;32m--> 658\u001b[0m     stem \u001b[38;5;241m=\u001b[39m word\u001b[38;5;241m.\u001b[39mlower() \u001b[38;5;28;01mif\u001b[39;00m to_lowercase \u001b[38;5;28;01melse\u001b[39;00m word\n\u001b[0;32m    660\u001b[0m     \u001b[38;5;28;01mif\u001b[39;00m \u001b[38;5;28mself\u001b[39m\u001b[38;5;241m.\u001b[39mmode \u001b[38;5;241m==\u001b[39m \u001b[38;5;28mself\u001b[39m\u001b[38;5;241m.\u001b[39mNLTK_EXTENSIONS \u001b[38;5;129;01mand\u001b[39;00m word \u001b[38;5;129;01min\u001b[39;00m \u001b[38;5;28mself\u001b[39m\u001b[38;5;241m.\u001b[39mpool:\n\u001b[0;32m    661\u001b[0m         \u001b[38;5;28;01mreturn\u001b[39;00m \u001b[38;5;28mself\u001b[39m\u001b[38;5;241m.\u001b[39mpool[stem]\n",
      "\u001b[1;31mAttributeError\u001b[0m: 'list' object has no attribute 'lower'"
     ]
    }
   ],
   "source": [
    "derlem = []\n",
    "for i in range(1000):\n",
    "    yorum = re.sub('[^a-zA-Z]',' ',yorumlar['Review'][i])\n",
    "    yorum = yorum.lower() # küçük harfe çevirecek\n",
    "    yorum = yorum.split() # kelimeleri split edecek !!!\n",
    "    yorum = [ps.stem(yorum) for kelime in yorum if not kelime in set(stopwords.words('english'))]\n",
    "    yorum = ' '.join(yorum)\n",
    "    derlem.append(yorum)"
   ]
  },
  {
   "cell_type": "code",
   "execution_count": null,
   "id": "7627114f",
   "metadata": {},
   "outputs": [],
   "source": []
  }
 ],
 "metadata": {
  "kernelspec": {
   "display_name": "Python 3 (ipykernel)",
   "language": "python",
   "name": "python3"
  },
  "language_info": {
   "codemirror_mode": {
    "name": "ipython",
    "version": 3
   },
   "file_extension": ".py",
   "mimetype": "text/x-python",
   "name": "python",
   "nbconvert_exporter": "python",
   "pygments_lexer": "ipython3",
   "version": "3.11.4"
  }
 },
 "nbformat": 4,
 "nbformat_minor": 5
}
