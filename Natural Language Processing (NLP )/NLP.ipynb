{
 "cells": [
  {
   "cell_type": "markdown",
   "id": "317a8ece",
   "metadata": {},
   "source": [
    "# Natural Language Processing \n",
    "\n",
    "--Doğal dil makina dilinden biraz daha uzak bir dildir ve fakrlıdır \n",
    "\n",
    "--Doğal dil doğal süreçten gelir \n",
    "\n",
    "--burada 2 farklı durum var 1 : Doğal Dili Anlamak  2 : Doğal dil oluşturmak \n",
    "\n",
    "--metni anlamak metni yorumlamak ve metin için sorulan sorulara doğru mantıklı cevaplar verebilmek burada bizim hedeflerimizdir\n",
    "\n",
    "--Yaklaşımlara bakılacak olursa \n",
    "\n",
    "1- Linguistik (DilBilim) Yaklaşımı #insanların dil için nasıl düşündüğü çalışmalarıdır insan gibi düşünmesi sağlanır #uzun sürer\n",
    "\n",
    "2- İstatiksel Yaklaşımlar # metnin kategorilerini anlayarak ilerlemesidir metin sınıflandırma problemidir!!\n",
    "\n",
    "3- Hibrit yaklaşım # ikisinin beraber kullanıldığı hibrit yaklaşımdır\n"
   ]
  },
  {
   "cell_type": "markdown",
   "id": "1d398c61",
   "metadata": {},
   "source": [
    "# Linguistik : \n",
    "\n",
    "--ekleri nelerdir dil bilgisi nelerdir bunları listeliyor \n",
    "\n",
    "--kelimelerin şekline bakarak bunların ne anlamına geldiğini anlıyor \n",
    "\n",
    "# İstatiksel Yaklaşımlar : \n",
    "\n",
    "--sayılarını analiz edilerek ilerliyor  \n",
    "\n",
    "\n",
    "\n",
    "# bunlar yapısal olmayanlardır! "
   ]
  },
  {
   "cell_type": "code",
   "execution_count": 2,
   "id": "1fd4c9e7",
   "metadata": {},
   "outputs": [],
   "source": [
    "import pandas as pd \n",
    "import numpy as np \n",
    "import matplotlib.pyplot as plt "
   ]
  },
  {
   "cell_type": "code",
   "execution_count": null,
   "id": "469383fe",
   "metadata": {},
   "outputs": [],
   "source": [
    "yorumlar = pd.read_csv(\"Restaurant_Reviews.csv\")"
   ]
  },
  {
   "cell_type": "code",
   "execution_count": 4,
   "id": "91583d66",
   "metadata": {},
   "outputs": [],
   "source": [
    "#noktalama işaretleri kelimeye ait değil yani biz duyguları kontrol ederken bu kelimleri işaretlerden kurtarmamız gerekir\n",
    "#ilk yapacağımız şey noktalama işaretlerinden kurtulmaktır \n",
    "#spars matrix oluşturacağız bu matris kelime matrisi olarak karşımıza gelmektedir\n",
    "# bu kelimeleri bu matrise koyarken hiç biri birbirine benzemiyor \n",
    "# her bir yorum için yazılan kelime vektörü giderek büyüyecek "
   ]
  },
  {
   "cell_type": "code",
   "execution_count": null,
   "id": "79622556",
   "metadata": {},
   "outputs": [],
   "source": [
    "#regular expression kullanarak işaretlerin tamamını kaldıracağız \n",
    "import re\n",
    "\n",
    "yorum = re.sub('[^a-zA-Z]',' ',yorumlar['Review'][0]) #Review colonunu aldık \n",
    "# ^ bu işaretle not anlamında yani olmayanları kaldırıyor !\n"
   ]
  },
  {
   "cell_type": "code",
   "execution_count": null,
   "id": "1ad217b2",
   "metadata": {},
   "outputs": [],
   "source": [
    "# büyük küçük harf problemine bakalım şimdi de \n",
    "# burada büyük küçük harf herhangi bir anlam ya da duygu içermiyor \n",
    "#bu yüzden kaldırılması herhangi bir problem yaratmaz \n",
    "yorum = yorum.lower() # bu lower işlemi bütün harfleri küçük hale getiriyor \n",
    "\n",
    "yorum = yorum.split() #bu da elimizdeki satırı her ir kelimesini liste haline çevirdi \n"
   ]
  },
  {
   "cell_type": "code",
   "execution_count": null,
   "id": "f53ba473",
   "metadata": {},
   "outputs": [],
   "source": [
    "# stopword denilen bir kavram vardır yani drma kelimleri anlamsız kelimeler vardır \n",
    "# the , that , it bunlar bizim için anlam taşımıyor biz santimental polarity yani anlamsal kutupsallık çalışıyoruz \n",
    "#bunlar bizim için önem arz etmiyor bu yüzden \n",
    "\n",
    "import nltk\n",
    "nltk.download(\"stopwords\") # bu kod ile buradaki görünen stopword'lerden birini görürsen onu kullanma diyorum \n"
   ]
  },
  {
   "cell_type": "code",
   "execution_count": null,
   "id": "a3023bee",
   "metadata": {},
   "outputs": [],
   "source": []
  },
  {
   "cell_type": "code",
   "execution_count": null,
   "id": "f4ffe2a9",
   "metadata": {},
   "outputs": [],
   "source": []
  },
  {
   "cell_type": "code",
   "execution_count": null,
   "id": "a50de581",
   "metadata": {},
   "outputs": [],
   "source": []
  },
  {
   "cell_type": "code",
   "execution_count": null,
   "id": "b2c10f46",
   "metadata": {},
   "outputs": [],
   "source": []
  },
  {
   "cell_type": "code",
   "execution_count": null,
   "id": "0eb7eb98",
   "metadata": {},
   "outputs": [],
   "source": []
  },
  {
   "cell_type": "code",
   "execution_count": null,
   "id": "f6826fed",
   "metadata": {},
   "outputs": [],
   "source": []
  },
  {
   "cell_type": "code",
   "execution_count": null,
   "id": "8348a63e",
   "metadata": {},
   "outputs": [],
   "source": []
  },
  {
   "cell_type": "code",
   "execution_count": null,
   "id": "f60507a4",
   "metadata": {},
   "outputs": [],
   "source": []
  },
  {
   "cell_type": "code",
   "execution_count": null,
   "id": "7b8b49f6",
   "metadata": {},
   "outputs": [],
   "source": []
  },
  {
   "cell_type": "code",
   "execution_count": null,
   "id": "280aa6ea",
   "metadata": {},
   "outputs": [],
   "source": []
  },
  {
   "cell_type": "code",
   "execution_count": null,
   "id": "4a52fef8",
   "metadata": {},
   "outputs": [],
   "source": []
  },
  {
   "cell_type": "code",
   "execution_count": null,
   "id": "3437bd75",
   "metadata": {},
   "outputs": [],
   "source": []
  },
  {
   "cell_type": "code",
   "execution_count": null,
   "id": "08542d38",
   "metadata": {},
   "outputs": [],
   "source": []
  },
  {
   "cell_type": "code",
   "execution_count": null,
   "id": "480b42d7",
   "metadata": {},
   "outputs": [],
   "source": []
  },
  {
   "cell_type": "code",
   "execution_count": null,
   "id": "0399ee07",
   "metadata": {},
   "outputs": [],
   "source": []
  },
  {
   "cell_type": "code",
   "execution_count": null,
   "id": "755d4c13",
   "metadata": {},
   "outputs": [],
   "source": []
  },
  {
   "cell_type": "code",
   "execution_count": null,
   "id": "f948afda",
   "metadata": {},
   "outputs": [],
   "source": []
  },
  {
   "cell_type": "code",
   "execution_count": null,
   "id": "78c7d28f",
   "metadata": {},
   "outputs": [],
   "source": []
  },
  {
   "cell_type": "code",
   "execution_count": null,
   "id": "a659d539",
   "metadata": {},
   "outputs": [],
   "source": []
  },
  {
   "cell_type": "code",
   "execution_count": null,
   "id": "f85522b3",
   "metadata": {},
   "outputs": [],
   "source": []
  },
  {
   "cell_type": "code",
   "execution_count": null,
   "id": "9dcadcdf",
   "metadata": {},
   "outputs": [],
   "source": []
  },
  {
   "cell_type": "code",
   "execution_count": null,
   "id": "94e8338e",
   "metadata": {},
   "outputs": [],
   "source": []
  },
  {
   "cell_type": "code",
   "execution_count": null,
   "id": "1e3f1e44",
   "metadata": {},
   "outputs": [],
   "source": []
  },
  {
   "cell_type": "code",
   "execution_count": null,
   "id": "98a39719",
   "metadata": {},
   "outputs": [],
   "source": []
  },
  {
   "cell_type": "code",
   "execution_count": null,
   "id": "96eb63d7",
   "metadata": {},
   "outputs": [],
   "source": []
  },
  {
   "cell_type": "code",
   "execution_count": null,
   "id": "05878435",
   "metadata": {},
   "outputs": [],
   "source": []
  },
  {
   "cell_type": "code",
   "execution_count": null,
   "id": "fb5617de",
   "metadata": {},
   "outputs": [],
   "source": []
  },
  {
   "cell_type": "code",
   "execution_count": null,
   "id": "0c80730e",
   "metadata": {},
   "outputs": [],
   "source": []
  },
  {
   "cell_type": "code",
   "execution_count": null,
   "id": "149dd0bf",
   "metadata": {},
   "outputs": [],
   "source": []
  },
  {
   "cell_type": "code",
   "execution_count": null,
   "id": "d50d733a",
   "metadata": {},
   "outputs": [],
   "source": []
  },
  {
   "cell_type": "code",
   "execution_count": null,
   "id": "c079b45c",
   "metadata": {},
   "outputs": [],
   "source": []
  },
  {
   "cell_type": "code",
   "execution_count": null,
   "id": "199c2505",
   "metadata": {},
   "outputs": [],
   "source": []
  },
  {
   "cell_type": "code",
   "execution_count": null,
   "id": "906be489",
   "metadata": {},
   "outputs": [],
   "source": []
  },
  {
   "cell_type": "code",
   "execution_count": null,
   "id": "f757f08a",
   "metadata": {},
   "outputs": [],
   "source": []
  },
  {
   "cell_type": "code",
   "execution_count": null,
   "id": "0cc272ef",
   "metadata": {},
   "outputs": [],
   "source": []
  },
  {
   "cell_type": "code",
   "execution_count": null,
   "id": "d5d71d2a",
   "metadata": {},
   "outputs": [],
   "source": []
  },
  {
   "cell_type": "code",
   "execution_count": null,
   "id": "29711054",
   "metadata": {},
   "outputs": [],
   "source": []
  },
  {
   "cell_type": "code",
   "execution_count": null,
   "id": "36a2c0b7",
   "metadata": {},
   "outputs": [],
   "source": []
  },
  {
   "cell_type": "code",
   "execution_count": null,
   "id": "ec1e604f",
   "metadata": {},
   "outputs": [],
   "source": []
  },
  {
   "cell_type": "code",
   "execution_count": null,
   "id": "092ba580",
   "metadata": {},
   "outputs": [],
   "source": []
  },
  {
   "cell_type": "code",
   "execution_count": null,
   "id": "8756287d",
   "metadata": {},
   "outputs": [],
   "source": []
  },
  {
   "cell_type": "code",
   "execution_count": null,
   "id": "5c18493a",
   "metadata": {},
   "outputs": [],
   "source": []
  },
  {
   "cell_type": "code",
   "execution_count": null,
   "id": "eb0aa2b0",
   "metadata": {},
   "outputs": [],
   "source": []
  },
  {
   "cell_type": "code",
   "execution_count": null,
   "id": "cc15be99",
   "metadata": {},
   "outputs": [],
   "source": []
  },
  {
   "cell_type": "code",
   "execution_count": null,
   "id": "a309f6bf",
   "metadata": {},
   "outputs": [],
   "source": []
  },
  {
   "cell_type": "code",
   "execution_count": null,
   "id": "65f5fdec",
   "metadata": {},
   "outputs": [],
   "source": []
  },
  {
   "cell_type": "code",
   "execution_count": null,
   "id": "218fbc49",
   "metadata": {},
   "outputs": [],
   "source": []
  },
  {
   "cell_type": "code",
   "execution_count": null,
   "id": "0ea7aac9",
   "metadata": {},
   "outputs": [],
   "source": []
  },
  {
   "cell_type": "code",
   "execution_count": null,
   "id": "8fa05494",
   "metadata": {},
   "outputs": [],
   "source": []
  },
  {
   "cell_type": "code",
   "execution_count": null,
   "id": "4983bacb",
   "metadata": {},
   "outputs": [],
   "source": []
  },
  {
   "cell_type": "code",
   "execution_count": null,
   "id": "c37c8316",
   "metadata": {},
   "outputs": [],
   "source": []
  }
 ],
 "metadata": {
  "kernelspec": {
   "display_name": "Python 3 (ipykernel)",
   "language": "python",
   "name": "python3"
  },
  "language_info": {
   "codemirror_mode": {
    "name": "ipython",
    "version": 3
   },
   "file_extension": ".py",
   "mimetype": "text/x-python",
   "name": "python",
   "nbconvert_exporter": "python",
   "pygments_lexer": "ipython3",
   "version": "3.11.4"
  }
 },
 "nbformat": 4,
 "nbformat_minor": 5
}
